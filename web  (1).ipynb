{
 "cells": [
  {
   "cell_type": "code",
   "execution_count": 7,
   "id": "d5ef962b",
   "metadata": {},
   "outputs": [],
   "source": [
    "import pandas as pd\n",
    "from selenium import webdriver\n",
    "from bs4 import BeautifulSoup\n",
    "import time\n",
    "import json\n",
    "\n",
    "def extract_reviews_from_page(page_source):\n",
    "    soup = BeautifulSoup(page_source, 'html.parser')\n",
    "    data = soup.find_all(\"script\", type=\"application/ld+json\")\n",
    "    reviews = []\n",
    "    for contents in data:\n",
    "        jsonData = json.loads(contents.text)\n",
    "        if \"review\" in jsonData:\n",
    "            for review in jsonData[\"review\"]:\n",
    "                headline = review.get(\"headline\", \"\")\n",
    "                review_body = review.get(\"reviewBody\", \"\")\n",
    "                rating_value = review[\"reviewRating\"][\"ratingValue\"]\n",
    "                reviews.append({\"MainReview\": headline, \"Detailed_Review\": review_body, \"Rating\": rating_value})\n",
    "    return reviews\n",
    "\n",
    "def scrape_reviews(url, pages):\n",
    "    browser = webdriver.Chrome()\n",
    "    results = []\n",
    "    for page_num in range(1, pages+1):\n",
    "        current_url = f\"{url}?bvstate=pg:{page_num}/ct:r#ratings_section\"\n",
    "        browser.get(current_url)\n",
    "        time.sleep(5)  # Wait for the new content to load\n",
    "        html = browser.page_source\n",
    "        reviews = extract_reviews_from_page(html)\n",
    "        results.extend(reviews)\n",
    "    browser.quit()\n",
    "    return results\n",
    "\n",
    "if __name__ == \"__main__\":\n",
    "    url = \"https://www.dell.com/en-in/work/shop/business-laptop-notebook-computers/latitude-7440-laptop/spd/latitude-14-7440-2-in-1-laptop/n001l7440017in9_vp\"\n",
    "    total_pages = 20\n",
    "    reviews = scrape_reviews(url, total_pages)\n",
    "    df = pd.DataFrame(reviews)\n",
    "    df.to_csv('reviewsfinal123.csv', index=False)\n"
   ]
  },
  {
   "cell_type": "code",
   "execution_count": null,
   "id": "367d722f",
   "metadata": {},
   "outputs": [],
   "source": []
  }
 ],
 "metadata": {
  "kernelspec": {
   "display_name": "Python 3 (ipykernel)",
   "language": "python",
   "name": "python3"
  },
  "language_info": {
   "codemirror_mode": {
    "name": "ipython",
    "version": 3
   },
   "file_extension": ".py",
   "mimetype": "text/x-python",
   "name": "python",
   "nbconvert_exporter": "python",
   "pygments_lexer": "ipython3",
   "version": "3.11.3"
  }
 },
 "nbformat": 4,
 "nbformat_minor": 5
}

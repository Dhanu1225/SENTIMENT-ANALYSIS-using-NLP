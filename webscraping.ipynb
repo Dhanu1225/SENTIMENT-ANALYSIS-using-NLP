{
 "cells": [
  {
   "cell_type": "code",
   "execution_count": 1,
   "id": "10bc1823-9794-461d-8519-b5ceeaedb135",
   "metadata": {},
   "outputs": [
    {
     "name": "stdout",
     "output_type": "stream",
     "text": [
      " ~ ~ ~ ~ ~ ~ ~ ~ OM SHRI GANESHAAYA NAMAHA ~ ~ ~ ~ ~ ~ ~ ~ ~ \n"
     ]
    }
   ],
   "source": [
    "print(' ~ ~ ~ ~ ~ ~ ~ ~ OM SHRI GANESHAAYA NAMAHA ~ ~ ~ ~ ~ ~ ~ ~ ~ ')"
   ]
  },
  {
   "cell_type": "markdown",
   "id": "871941ca-2305-418b-8480-4dd6f442a40e",
   "metadata": {},
   "source": [
    "##### Task 1: Extract reviews of a given product"
   ]
  },
  {
   "cell_type": "markdown",
   "id": "48ed07e6-f7a0-4e85-8216-57939a302274",
   "metadata": {},
   "source": [
    "#### Import required libraries"
   ]
  },
  {
   "cell_type": "code",
   "execution_count": 2,
   "id": "8feba28f-f7bb-469e-b6be-1645bc9c37da",
   "metadata": {},
   "outputs": [],
   "source": [
    "import pandas as pd\n",
    "import numpy as np\n",
    "import traceback\n",
    "import re\n",
    "import requests\n",
    "\n",
    "from tqdm.notebook import tqdm\n",
    "\n",
    "from bs4 import BeautifulSoup \n",
    "\n",
    "from selenium import webdriver\n",
    "from selenium.webdriver.common.by import By\n",
    "from selenium.webdriver.support.ui import WebDriverWait\n",
    "from selenium.webdriver.support import expected_conditions as EC\n",
    "from selenium.webdriver.firefox.options import Options  \n",
    "from selenium.common.exceptions import TimeoutException\n",
    "\n",
    "import time\n",
    "\n",
    "# from clear_cache import clear_firefox_cache"
   ]
  },
  {
   "cell_type": "markdown",
   "id": "36be3a07-2c47-4e38-bb3c-ec6622d8b995",
   "metadata": {},
   "source": [
    "## <font color='a33668'> <b> Web-scraping for product reviews (Amazon) </b> </font>"
   ]
  },
  {
   "cell_type": "code",
   "execution_count": 3,
   "id": "60d474e0-6321-4259-b175-f52131bf3f77",
   "metadata": {},
   "outputs": [],
   "source": [
    "headers = {'authority': 'www.amazon.in',\n",
    "           'accept-language': 'en-US,en;q=0.9',\n",
    "           'user-agent': 'Mozilla/5.0 (Windows NT 10.0; Win64; x64) AppleWebKit/537.36 (KHTML, like Gecko) Chrome/102.0.0.0 Safari/537.36'}"
   ]
  },
  {
   "cell_type": "code",
   "execution_count": 4,
   "id": "4f0ed548-a36a-46eb-b082-1383446fae47",
   "metadata": {},
   "outputs": [],
   "source": [
    "def get_soup(url):\n",
    "    # Path to the geckodriver executable\n",
    "    geckodriver_path = '/ssg/bin/geckodriver.exe'\n",
    "    # Driver options\n",
    "    options = Options()   \n",
    "    options.add_argument('--headless')\n",
    "    options.add_argument('--start-maximized')\n",
    "    \n",
    "    # Create a Firefox driver\n",
    "    driver = webdriver.Firefox(options=options)\n",
    "    \n",
    "    driver.get(url)\n",
    "    \n",
    "    # Wait for the entire page to load\n",
    "    WebDriverWait(driver, 10).until(EC.presence_of_element_located((By.TAG_NAME, \"body\")))\n",
    "\n",
    "    soup = BeautifulSoup(driver.page_source, 'html.parser')\n",
    "    driver.quit()\n",
    "    return soup\n",
    "\n",
    "reviewlist = []\n",
    "\n",
    "def get_reviews(soup):\n",
    "    reviews = soup.find_all('div', {'data-hook': 'review'})\n",
    "\n",
    "    try:\n",
    "        for item in reviews:\n",
    "            review = {'Rating':float(item.find('i', {'data-hook': 'cmps-review-star-rating'}).text.replace('out of 5 stars', '').strip()),\n",
    "                      'Title': item.find('span', {'data-hook': 'review-title'}).text.strip(),\n",
    "                      'Review':item.find('span', {'data-hook': 'review-body'}).text.strip()}\n",
    "            reviewlist.append(review)\n",
    "    except Exception as e:\n",
    "        traceback.print_exc()\n",
    "        pass"
   ]
  },
  {
   "cell_type": "code",
   "execution_count": 5,
   "id": "b39e7cba-652d-46c3-a803-a47651867b66",
   "metadata": {
    "scrolled": true
   },
   "outputs": [
    {
     "data": {
      "application/vnd.jupyter.widget-view+json": {
       "model_id": "d183b4f5a5af43a7aebd2918c83b8e28",
       "version_major": 2,
       "version_minor": 0
      },
      "text/plain": [
       "  0%|          | 0/1 [00:00<?, ?it/s]"
      ]
     },
     "metadata": {},
     "output_type": "display_data"
    }
   ],
   "source": [
    "for x in tqdm(range(1)):\n",
    "    url_str = f'https://www.amazon.in/product-reviews/B071F49Q2P/ref=cm_cr_unknown?ie=UTF8r&reviewerType=all_reviews&pageNumber={x+1}'\n",
    "    soup = get_soup(url_str) \n",
    "    get_reviews(soup)\n",
    "    if not soup.find('li', {'class': 'a-disabled a-last'}):\n",
    "        pass\n",
    "    else:\n",
    "        break"
   ]
  },
  {
   "cell_type": "code",
   "execution_count": 6,
   "id": "168c4266-83ad-45bb-90ee-4e5e8fd82e94",
   "metadata": {},
   "outputs": [
    {
     "data": {
      "text/plain": [
       "[{'Rating': 5.0,\n",
       "  'Title': 'Good products refurbished  to almost new condition',\n",
       "  'Review': 'all 3 laptops worked as expected  good batteries, nice screen and fast SSD would buy again'},\n",
       " {'Rating': 5.0,\n",
       "  'Title': 'Very Satisfied',\n",
       "  'Review': 'It seems most \"computer\" refurbs are offered here on Amazon through a variety of different sellers under the same listing?  So, for the record, my order was fulfilled through \"Budget Business Computers\".  I\\'ve had the unit for almost a month now.  Unit arrived with a few very minor \"aesthetic\" issues - a couple of small dings and a small scratch on the cover - but all technical details matched the product description, fresh install of Windows 10 Pro, and the computer itself works flawlessly to date.  FWIW, runs a bit \"warm\", as thinner units tend to, and I\\'d say battery life is very  good, but not great.  Overall, I\\'m very satisfied with my purchase.  Great price, quick delivery (International delivery, no less) and in general a decent little secondary, or back-up, machine!'},\n",
       " {'Rating': 4.0,\n",
       "  'Title': 'Very good',\n",
       "  'Review': 'Very good laptop for the price and good service.'},\n",
       " {'Rating': 4.0,\n",
       "  'Title': 'Works very well',\n",
       "  'Review': \"I'm an older, retired individual that just needs a basic machine to shop, surf, run kodi occasionally and send emails. Nothing super duper. I've had this laptop for a couple weeks now and it has worked almost flawlessly. Only glitch is if I leave it for awhile and it goes into sleep mode, it doesn't always wake up properly and runs sluggish. If I restart it, it's fine. That is the only problem I've had. I've had quite a few computers and few have run this well. It's fast to start and has quick performance. Works well running video & audio programs. No WiFi connection problems. Automatically connects everytime. I'm not overly impressed with the sound quality when I have speakers plugged into it; sound is just average, but it's clear. Built in speakers are pretty good for a laptop.Display is average. Not 1080 but good enough.For a $400 laptop, I'm impressed enough to recommend it. 2 thumbs up.\"},\n",
       " {'Rating': 5.0,\n",
       "  'Title': 'My old Dell was on the verge of going bye bye',\n",
       "  'Review': \"My previous Dell Laptop was bought in a drastic emergency situation in the middle of going to online school. It worked great and did the job it needed to do. Finally started to received  strange messages. Time for an update, and found this refurbished dell on Amazon. No scratches when received, it started right up from the get go, internet was easy as can be. The laptop runs really great, perfect for my needs, no longer in school. I really love this laptop, its super fast compared to the last one (which was really old, and used a lot). I don't have any complaints. I was concerned with the size of the screen, since its bright, there are no problems. Picture is fantastic, sound is great for what I use it for. Lost the speakers in my previous Dell Laptop.\"},\n",
       " {'Rating': 5.0,\n",
       "  'Title': 'Great computer for the price.',\n",
       "  'Review': 'Computer arrived earlier than expected. In excellent condition, works great. Have no complaints about this product. Battery seems to be good although it’s most always plugged in so I really can’t say for sure. My hubby  bought the same computer a few years ago and it works great for him too.'},\n",
       " {'Rating': 1.0,\n",
       "  'Title': 'I’m changing my review!  Don’t buy',\n",
       "  'Review': 'Edit: As of May 29th I am returning this laptop, I upgraded it to 16GB of RAM, a WiFi 6 wireless card… and it was getting slower as time went on. Not your typical clean up type slow but everything ran like dirt.The battery was at end of life when I got it and I wasn’t too happy about that, but then the back USB port was flaky.  I went to use it on my car to scan the way the car was running, I flashed a new tune into it and drove to work for 19 minutes without a problem.I go to turn ot on and it’s dead!  I will not power on, I tried all the troubleshooting ideas I could find online. Doesn’t work with or without the battery nor when it’s on AC power.As I read around on this model it seems to be a common issue where they will be working fine one time and the next dead as a door nail.I already put a return in for it due to the battery and the USB port, and the next day it dies.Thankfully I had OneDrive installed and synced to my other Dell laptop so I didn’t lose much data… I put the old ram back in and the old wifi adapter. Plus side is I don’t have to worry about wiping my data off of it!Don’t buy! Look for a better model. I went with an E7470, i7 6600, 16GB of RAM already installed and a 512GB SSD drive.  Twice the specs of this model for $45 more.I have a Dell M4700 mobile workstation and it weighs over 8 pounds fully loaded!  I wanted something a bit lighter that I could use when I didn’t need the performance of the M4700. The i5 isn’t slow but the two downsides are it doesn’t support Win 11 and the WiFi card that is in it doesn’t support WiFi 6 networks, it won’t even see them and Intel doesn’t support it anymore so no updated drivers.I spent $29 on new card that supports WiFi 6 AX-3000 which should make it very fast'},\n",
       " {'Rating': 1.0,\n",
       "  'Title': \"Defective computer, couldn't charge it at all\",\n",
       "  'Review': \"The packaging was fine, the computer looked very good. However, as soon as I opened the box I noticed the characteristic smell of burning/burned electronics, even though the computer was obviously turned off. I assumed it was from the storage where it came from. Anyway, I went ahead and plugged it in the power to charge the battery before I tried to use it. The smell got a little worse, and I still ignored it as I wasn't seeing anything of concern (e.g. smoke, sparks, etc.).After some minutes charging, I noticed that the upper left corner on the keyboard was getting hotter and the smell was coming from there. I thought that the hotter temperature inside was making the smell worse, and I assumed the the charging process was heating up the computer and that it was normal.After some more minutes I decided to turn it on, but for my surprise nothing happened, the power button didn't work at all and the computer seemed dead. I unplugged it, removed the batter and put it back, press the power button again and this time it worked and the computer turned on. Weird, but ok.While booting I pressed F2, checked the BIOS for log messages and there were some related to overheating. Can't tell for sure if this is related because the date/time was way off and I hadn't checked/updated the clock yet. I got concerned though.Unplugged it, rebooted it and let it run Windows update while on battery. When the battery reached ~50% (1h+ remaining), I got an alert saying that the battery was low and the system would shut down. I quickly plugged the power adapter, but it seems that it didn't do anything. Windows update could not even complete all the installations before the computer shut down.Checked the BIOS again and now it said the charger was not detected, but it was plugged into the coputer and to the power. BIOS also reported that the CPU fan was working fine. I used a digital multimeter to test the charger and it's output voltage was ok. More weird.Bottom line, I couldn't recharge the battery neither run on power because the adapter wasn't being detected. I bet the burning smell was coming from the internal circuit that connects the power adapter. The end result is that I can't use the computer at all.In the end I decided to stop troubleshooting and return the item before I had more unpleasant surprises. I went online and bought a brand new one from Dell (still waiting for it to be delivered).\"},\n",
       " {'Rating': 2.0,\n",
       "  'Title': 'Battery does not last for more than 10 min. without power connected',\n",
       "  'Review': 'first time used on battery power it craps out within 10 min.Nice Laptop otherwise.  Trying to get this replaced under the warranty.  Dell Latitude E7440Will update on outcome'},\n",
       " {'Rating': 5.0,\n",
       "  'Title': 'Clean image, fast machine, great price',\n",
       "  'Review': \"Just like the E7400 series laptop I've been using for the last three years, but at less than half the price. I'm impressed with MicroBee refurbisher.  The machine had been recently re-imaged without Dell add-ware/bloat-ware. It came with W10 1903 including all recent updates. On seeing the internet for the first time, the only thing it downloaded was 3 driver updates!! The laptop itself is usual high quality Dell, indistinguishable from new, and probably better (newer image) than if bought direct from Dell. No trouble with W10 activation. Came with an upgraded power brick (has a lighted ring on the plug). Of course the SSD makes everything fly. Refurbisher packaging was excellent with useful, clear contact info that I did NOT have to use.\"}]"
      ]
     },
     "execution_count": 6,
     "metadata": {},
     "output_type": "execute_result"
    }
   ],
   "source": [
    "reviewlist"
   ]
  },
  {
   "cell_type": "markdown",
   "id": "3791b22f-5162-4a74-a03d-9e4d26309521",
   "metadata": {},
   "source": [
    "## <font color='a33668'> <b> Web-scraping for product reviews (Dell) </b> </font>"
   ]
  },
  {
   "cell_type": "markdown",
   "id": "75886c33-fcdb-4f1f-92dd-6fe483343401",
   "metadata": {},
   "source": [
    "### <font color='a33668'> Scraping code </font>"
   ]
  },
  {
   "cell_type": "code",
   "execution_count": 7,
   "id": "efb696e4-4207-4664-807d-d07c9cbe9a37",
   "metadata": {},
   "outputs": [],
   "source": [
    "# Function to scroll to the host element of the Shadow DOM\n",
    "def check_shadow_dom(driver, host_element, max_retries=5):\n",
    "    retry_count = 0\n",
    "    css_selector = \"#cfBazaarReviewWrapper > div:nth-child(2)\"\n",
    "    while retry_count < max_retries:\n",
    "        print(f'Checking Shadow DOM ...')\n",
    "        print(f'Trying {retry_count+1} of {max_retries} ...')\n",
    "        try:\n",
    "            driver.execute_script(\"arguments[0].scrollIntoView({behavior: 'smooth', block: 'center'});\", host_element)\n",
    "            has_shadow_dom = driver.execute_script(\"return arguments[0].shadowRoot !== null && arguments[0].shadowRoot !== 'None'\", host_element)\n",
    "            if has_shadow_dom: \n",
    "                return has_shadow_dom\n",
    "            else: \n",
    "                time.sleep(1) # Adjust the sleep duration as required.\n",
    "        except TimeoutException:\n",
    "            print(\"Timed out waiting for element.\")\n",
    "        retry_count += 1\n",
    "    print(\"Reached maximum retries. Unable to determine if element has shadow DOM.\")\n",
    "    return False\n",
    "\n",
    "def scrape_page(n):\n",
    "    s='' # string for populating the extracted data\n",
    "    try:\n",
    "        # url = \"https://www.dell.com/en-in/work/shop/business-laptop-notebook-computers/latitude-7440-laptop/spd/latitude-14-7440-2-in-1-laptop/n001l7440017in9_vp#ratings_section\"\n",
    "        url1 = \"https://www.dell.com/en-in/work/shop/business-laptop-notebook-computers/latitude-7440-laptop/spd/latitude-14-7440-2-in-1-laptop/n001l7440017in9_vp?bvstate=pg:\"\n",
    "        url3 = \"/ct:r#ratings_section\"\n",
    "        url = f'{url1}{n}{url3}'\n",
    "    \n",
    "        options = Options()\n",
    "        # options.add_argument('--headless')\n",
    "        # options.add_argument('--start-maximized')\n",
    "    \n",
    "        # Create a Firefox driver\n",
    "        driver = webdriver.Firefox(options=options)\n",
    "\n",
    "        print(f'Getting ... {url}')\n",
    "        driver.get(url)\n",
    "    \n",
    "        # Scroll to the element that is the host of the Shadow DOM\n",
    "        css_selector = \"#cfBazaarReviewWrapper > div:nth-child(2)\"\n",
    "        wait = WebDriverWait(driver, 10)\n",
    "        host_element = wait.until(EC.presence_of_element_located((By.CSS_SELECTOR, css_selector)))\n",
    "        driver.execute_script(\"arguments[0].scrollIntoView({behavior: 'smooth', block: 'center'});\", host_element)\n",
    "    \n",
    "        # print(f'host_element: {host_element}')\n",
    "        \n",
    "        # Use JavaScript to check if the element has a shadow root\n",
    "        has_shadow_dom = check_shadow_dom(driver, host_element)\n",
    "        \n",
    "        if has_shadow_dom :\n",
    "            print('Shadow DOM found.')\n",
    "            max_retries = 5\n",
    "            retry_count = 0\n",
    "            inner_element = None\n",
    "            while retry_count < max_retries:\n",
    "                    # JavaScript to scroll to and get the handle of the inner element ('#reviews_container') within the Shadow DOM\n",
    "                    script = \"\"\"\n",
    "                    const hostElement = arguments[0];\n",
    "                    const innerElementSelector = '#reviews_container';\n",
    "                    const innerElement = hostElement.shadowRoot.querySelector(innerElementSelector);\n",
    "                    if (innerElement) {\n",
    "                        innerElement.scrollIntoView({behavior: 'smooth', block: 'center'});\n",
    "                        return innerElement;\n",
    "                    }\n",
    "                    return null;\n",
    "                    \"\"\"\n",
    "                    # Execute the JavaScript to scroll to the inner element within the Shadow DOM and get its handle\n",
    "                    inner_element = driver.execute_script(script, host_element)\n",
    "        \n",
    "                    if inner_element is not None:\n",
    "                        # Inner element found, break out of the loop\n",
    "                        break\n",
    "                    else:\n",
    "                        # Increment retry count and wait before retrying\n",
    "                        retry_count += 1\n",
    "                        time.sleep(1)  # Adjust the sleep duration as needed\n",
    "                        \n",
    "        # If Shadow DOM does not exist then raise an exception\n",
    "        else:\n",
    "            raise Exception('Host element (\\\"#cfBazaarReviewWrapper > div:nth-child(2)\\\") does not have a Shadow DOM, or it is closed.')\n",
    "    \n",
    "        print(\"Shadow DOM inner element ('#reviews_container') found.\")\n",
    "        # print(\"inner_element is: \", inner_element)\n",
    "        if inner_element:\n",
    "            \n",
    "            # Find all 'section' elements with ids starting with 'bv-review-'\n",
    "            review_elements = inner_element.find_elements(By.CSS_SELECTOR, \"section[id^='bv-review-']\")\n",
    "    \n",
    "            # print(review_elements) \n",
    "            \n",
    "            # Loop through the collection of 'section' elements\n",
    "            for element in review_elements:\n",
    "                # Scroll the section element into view\n",
    "                driver.execute_script(\"arguments[0].scrollIntoView(true);\", element)\n",
    "        \n",
    "                # Find the 'abbr' element within each 'section' element\n",
    "                abbr_element = element.find_element(By.TAG_NAME, 'abbr')\n",
    "                \n",
    "                # Get the title attribute of the 'abbr' element\n",
    "                abbr_title = abbr_element.get_attribute(\"title\")\n",
    "                # print(\"***** abbr_title: \", abbr_title)\n",
    "                s += f'\\n {abbr_title[0]}|'\n",
    "    \n",
    "                # Find the div element with attribute data-bv-v='contentItem' under the 'section' element\n",
    "                content_item_div = element.find_element(By.CSS_SELECTOR, \"div[data-bv-v='contentItem']\")\n",
    "    \n",
    "                # Find the div element with attribute data-bv-v='contentHeader' under the 'contentItem' div\n",
    "                content_header_div = content_item_div.find_element(By.CSS_SELECTOR, \"div[data-bv-v='contentHeader']\")\n",
    "                \n",
    "                # Find the h3 element under the 'contentHeader' div\n",
    "                h3_element = content_header_div.find_element(By.TAG_NAME, \"h3\")\n",
    "    \n",
    "                # print(\"****** h3_element.text: \", h3_element.text)\n",
    "                s += f'{h3_element.text}|'\n",
    "    \n",
    "                # Find the div tag with attribute data-bv-v='contentSummary' within the content item div\n",
    "                content_summary_div = content_item_div.find_element(By.CSS_SELECTOR, \"div[class='bv-rnr__sc-16dr7i1-3 kPwaVD']\")\n",
    "    \n",
    "                # print(\"***** content_summary_div.text: \", content_summary_div.text)\n",
    "                s += f'{content_summary_div.text}'\n",
    "        else:\n",
    "            print(\"Failed to find \\'reviews_container\\' element.\")\n",
    "    \n",
    "    except Exception as e:\n",
    "        print ('General Error: ', e)\n",
    "        return 'Retrieval error.'\n",
    "    \n",
    "    finally:\n",
    "        try:\n",
    "            # Clear the cache using JavaScript execution\n",
    "            driver.execute_script(\"window.localStorage.clear();\")\n",
    "            driver.execute_script(\"window.sessionStorage.clear();\")\n",
    "            driver.execute_script(\"window.location.reload();\")\n",
    "        except Exception as e:\n",
    "            print(\"Error clearing cache:\", e)\n",
    "        driver.quit()\n",
    "    print(f'Relevant information from page {n} retrieved.')\n",
    "    return s"
   ]
  },
  {
   "cell_type": "markdown",
   "id": "761d25b2-f977-42de-99f5-e8e9c3d61e09",
   "metadata": {},
   "source": [
    "### <font color='a33668'> Calling the function with page number as param </font>"
   ]
  },
  {
   "cell_type": "code",
   "execution_count": 8,
   "id": "aad8c7ce-94e6-4d8d-998f-bfe17957d466",
   "metadata": {
    "scrolled": true
   },
   "outputs": [
    {
     "name": "stdout",
     "output_type": "stream",
     "text": [
      "------- SCRAPING PAGE 1 -------\n",
      "Getting ... https://www.dell.com/en-in/work/shop/business-laptop-notebook-computers/latitude-7440-laptop/spd/latitude-14-7440-2-in-1-laptop/n001l7440017in9_vp?bvstate=pg:1/ct:r#ratings_section\n",
      "Checking Shadow DOM ...\n",
      "Trying 1 of 5 ...\n",
      "Shadow DOM found.\n",
      "Shadow DOM inner element ('#reviews_container') found.\n",
      "Relevant information from page 1 retrieved.\n",
      "------- SCRAPING PAGE 2 -------\n",
      "Getting ... https://www.dell.com/en-in/work/shop/business-laptop-notebook-computers/latitude-7440-laptop/spd/latitude-14-7440-2-in-1-laptop/n001l7440017in9_vp?bvstate=pg:2/ct:r#ratings_section\n",
      "Checking Shadow DOM ...\n",
      "Trying 1 of 5 ...\n",
      "Checking Shadow DOM ...\n",
      "Trying 2 of 5 ...\n",
      "Shadow DOM found.\n",
      "Shadow DOM inner element ('#reviews_container') found.\n",
      "Relevant information from page 2 retrieved.\n",
      "------- SCRAPING PAGE 3 -------\n",
      "Getting ... https://www.dell.com/en-in/work/shop/business-laptop-notebook-computers/latitude-7440-laptop/spd/latitude-14-7440-2-in-1-laptop/n001l7440017in9_vp?bvstate=pg:3/ct:r#ratings_section\n",
      "Checking Shadow DOM ...\n",
      "Trying 1 of 5 ...\n",
      "Shadow DOM found.\n",
      "Shadow DOM inner element ('#reviews_container') found.\n",
      "Relevant information from page 3 retrieved.\n",
      "------- SCRAPING PAGE 4 -------\n",
      "Getting ... https://www.dell.com/en-in/work/shop/business-laptop-notebook-computers/latitude-7440-laptop/spd/latitude-14-7440-2-in-1-laptop/n001l7440017in9_vp?bvstate=pg:4/ct:r#ratings_section\n",
      "Checking Shadow DOM ...\n",
      "Trying 1 of 5 ...\n",
      "Shadow DOM found.\n",
      "Shadow DOM inner element ('#reviews_container') found.\n",
      "Relevant information from page 4 retrieved.\n",
      "------- SCRAPING PAGE 5 -------\n",
      "Getting ... https://www.dell.com/en-in/work/shop/business-laptop-notebook-computers/latitude-7440-laptop/spd/latitude-14-7440-2-in-1-laptop/n001l7440017in9_vp?bvstate=pg:5/ct:r#ratings_section\n",
      "Checking Shadow DOM ...\n",
      "Trying 1 of 5 ...\n",
      "Shadow DOM found.\n",
      "Shadow DOM inner element ('#reviews_container') found.\n",
      "Relevant information from page 5 retrieved.\n",
      "------- SCRAPING PAGE 6 -------\n",
      "Getting ... https://www.dell.com/en-in/work/shop/business-laptop-notebook-computers/latitude-7440-laptop/spd/latitude-14-7440-2-in-1-laptop/n001l7440017in9_vp?bvstate=pg:6/ct:r#ratings_section\n",
      "Checking Shadow DOM ...\n",
      "Trying 1 of 5 ...\n",
      "Shadow DOM found.\n",
      "Shadow DOM inner element ('#reviews_container') found.\n",
      "Relevant information from page 6 retrieved.\n",
      "------- SCRAPING PAGE 7 -------\n",
      "Getting ... https://www.dell.com/en-in/work/shop/business-laptop-notebook-computers/latitude-7440-laptop/spd/latitude-14-7440-2-in-1-laptop/n001l7440017in9_vp?bvstate=pg:7/ct:r#ratings_section\n",
      "Checking Shadow DOM ...\n",
      "Trying 1 of 5 ...\n",
      "Shadow DOM found.\n",
      "Shadow DOM inner element ('#reviews_container') found.\n",
      "General Error:  Message: Unable to locate element: abbr; For documentation on this error, please visit: https://www.selenium.dev/documentation/webdriver/troubleshooting/errors#no-such-element-exception\n",
      "Stacktrace:\n",
      "RemoteError@chrome://remote/content/shared/RemoteError.sys.mjs:8:8\n",
      "WebDriverError@chrome://remote/content/shared/webdriver/Errors.sys.mjs:189:5\n",
      "NoSuchElementError@chrome://remote/content/shared/webdriver/Errors.sys.mjs:507:5\n",
      "dom.find/</<@chrome://remote/content/shared/DOM.sys.mjs:132:16\n",
      "\n",
      "ERROR OCCURED WHILE RETRIEVING PAGE 7:  Retrieval error. Page index 6\n",
      "------- SCRAPING PAGE 8 -------\n",
      "Getting ... https://www.dell.com/en-in/work/shop/business-laptop-notebook-computers/latitude-7440-laptop/spd/latitude-14-7440-2-in-1-laptop/n001l7440017in9_vp?bvstate=pg:8/ct:r#ratings_section\n",
      "Checking Shadow DOM ...\n",
      "Trying 1 of 5 ...\n",
      "Shadow DOM found.\n",
      "Shadow DOM inner element ('#reviews_container') found.\n",
      "Relevant information from page 8 retrieved.\n",
      "------- SCRAPING PAGE 9 -------\n",
      "Getting ... https://www.dell.com/en-in/work/shop/business-laptop-notebook-computers/latitude-7440-laptop/spd/latitude-14-7440-2-in-1-laptop/n001l7440017in9_vp?bvstate=pg:9/ct:r#ratings_section\n",
      "Checking Shadow DOM ...\n",
      "Trying 1 of 5 ...\n",
      "Shadow DOM found.\n",
      "Shadow DOM inner element ('#reviews_container') found.\n",
      "Relevant information from page 9 retrieved.\n",
      "------- SCRAPING PAGE 10 -------\n",
      "Getting ... https://www.dell.com/en-in/work/shop/business-laptop-notebook-computers/latitude-7440-laptop/spd/latitude-14-7440-2-in-1-laptop/n001l7440017in9_vp?bvstate=pg:10/ct:r#ratings_section\n",
      "Checking Shadow DOM ...\n",
      "Trying 1 of 5 ...\n",
      "Shadow DOM found.\n",
      "Shadow DOM inner element ('#reviews_container') found.\n",
      "General Error:  Message: Unable to locate element: abbr; For documentation on this error, please visit: https://www.selenium.dev/documentation/webdriver/troubleshooting/errors#no-such-element-exception\n",
      "Stacktrace:\n",
      "RemoteError@chrome://remote/content/shared/RemoteError.sys.mjs:8:8\n",
      "WebDriverError@chrome://remote/content/shared/webdriver/Errors.sys.mjs:189:5\n",
      "NoSuchElementError@chrome://remote/content/shared/webdriver/Errors.sys.mjs:507:5\n",
      "dom.find/</<@chrome://remote/content/shared/DOM.sys.mjs:132:16\n",
      "\n",
      "ERROR OCCURED WHILE RETRIEVING PAGE 10:  Retrieval error. Page index 9\n",
      "------- SCRAPING PAGE 11 -------\n",
      "Getting ... https://www.dell.com/en-in/work/shop/business-laptop-notebook-computers/latitude-7440-laptop/spd/latitude-14-7440-2-in-1-laptop/n001l7440017in9_vp?bvstate=pg:11/ct:r#ratings_section\n",
      "Checking Shadow DOM ...\n",
      "Trying 1 of 5 ...\n",
      "Shadow DOM found.\n",
      "Shadow DOM inner element ('#reviews_container') found.\n",
      "General Error:  Message: Unable to locate element: abbr; For documentation on this error, please visit: https://www.selenium.dev/documentation/webdriver/troubleshooting/errors#no-such-element-exception\n",
      "Stacktrace:\n",
      "RemoteError@chrome://remote/content/shared/RemoteError.sys.mjs:8:8\n",
      "WebDriverError@chrome://remote/content/shared/webdriver/Errors.sys.mjs:189:5\n",
      "NoSuchElementError@chrome://remote/content/shared/webdriver/Errors.sys.mjs:507:5\n",
      "dom.find/</<@chrome://remote/content/shared/DOM.sys.mjs:132:16\n",
      "\n",
      "ERROR OCCURED WHILE RETRIEVING PAGE 11:  Retrieval error. Page index 10\n"
     ]
    }
   ],
   "source": [
    "\n",
    "failed_pages=[]\n",
    "with open(\"reviews.txt\", \"a\") as file_handle:\n",
    "    for pg in range(11):\n",
    "        file_handle.write(f'\\r\\n # Page-{pg+1}\\r\\n')\n",
    "        file_handle.flush()\n",
    "        try:\n",
    "            s=''\n",
    "            # set the param of the following funtion to the review page number to extract\n",
    "            print(f'------- SCRAPING PAGE {pg+1} -------')\n",
    "            s = scrape_page((pg+1))\n",
    "            if s == 'Retrieval error.':\n",
    "                raise Exception(f'{s} Page index {pg}')\n",
    "            file_handle.write(s)\n",
    "            file_handle.flush()\n",
    "        except Exception as e:\n",
    "            print(f'ERROR OCCURED WHILE RETRIEVING PAGE {pg+1}:  {e}')\n",
    "            failed_pages.append(pg)\n",
    "\n",
    "file_handle.close()\n"
   ]
  },
  {
   "cell_type": "markdown",
   "id": "bed65398-c877-4b46-8c95-c44368f6d227",
   "metadata": {},
   "source": [
    "### <font color='a33668'> Printing the CSV for a given page </font>\n",
    "\n",
    "- CSV Columns: Rating, Review Title, Review"
   ]
  },
  {
   "cell_type": "code",
   "execution_count": 9,
   "id": "24dee198-f97d-4a5c-ab5b-0d215025a766",
   "metadata": {},
   "outputs": [
    {
     "data": {
      "text/plain": [
       "[6, 9, 10]"
      ]
     },
     "execution_count": 9,
     "metadata": {},
     "output_type": "execute_result"
    }
   ],
   "source": [
    "failed_pages"
   ]
  }
 ],
 "metadata": {
  "kernelspec": {
   "display_name": "Python 3 (ipykernel)",
   "language": "python",
   "name": "python3"
  },
  "language_info": {
   "codemirror_mode": {
    "name": "ipython",
    "version": 3
   },
   "file_extension": ".py",
   "mimetype": "text/x-python",
   "name": "python",
   "nbconvert_exporter": "python",
   "pygments_lexer": "ipython3",
   "version": "3.11.4"
  }
 },
 "nbformat": 4,
 "nbformat_minor": 5
}
